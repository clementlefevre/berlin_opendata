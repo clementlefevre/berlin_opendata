{
 "cells": [
  {
   "cell_type": "code",
   "execution_count": 84,
   "metadata": {},
   "outputs": [],
   "source": [
    "from urllib2 import urlopen\n",
    "from bs4 import BeautifulSoup\n",
    "import urllib\n",
    "\n",
    "years = range(2012,2018)\n",
    "\n",
    "csv_dic = {}\n",
    "\n",
    "URL_BASE  = 'https://daten.berlin.de/datensaetze/liste-der-h%C3%A4ufigen-vornamen-'\n",
    "\n",
    "def retrieve_csv_link(year):\n",
    "    csv_year = []\n",
    "    url = ''.join([URL_BASE,str(year)])\n",
    "    print url\n",
    "    \n",
    "    html = urlopen(url).read()\n",
    "\n",
    "    soup = BeautifulSoup(html)\n",
    "\n",
    "    for a in soup.find_all('a', href=True):\n",
    "        text = str(a['href'].encode('utf-8'))\n",
    "        if '.csv' in text:\n",
    "            print text\n",
    "            csv_year.append(text)\n",
    "    \n",
    "    return csv_year\n"
   ]
  },
  {
   "cell_type": "code",
   "execution_count": 85,
   "metadata": {},
   "outputs": [
    {
     "name": "stdout",
     "output_type": "stream",
     "text": [
      "https://daten.berlin.de/datensaetze/liste-der-h%C3%A4ufigen-vornamen-2012\n",
      "http://www.berlin.de/daten/liste-der-vornamen/Charlottenburg-Wilmersdorf.csv\n",
      "http://www.berlin.de/daten/liste-der-vornamen/Friedrichshain-Kreuzberg.csv\n",
      "http://www.berlin.de/daten/liste-der-vornamen/Lichtenberg.csv\n",
      "http://www.berlin.de/daten/liste-der-vornamen/Marzahn-Hellersdorf.csv\n",
      "http://www.berlin.de/daten/liste-der-vornamen/Mitte.csv\n",
      "http://www.berlin.de/daten/liste-der-vornamen/Neukoelln.csv\n",
      "http://www.berlin.de/daten/liste-der-vornamen/Pankow.csv\n",
      "http://www.berlin.de/daten/liste-der-vornamen/Reinickendorf.csv\n",
      "http://www.berlin.de/daten/liste-der-vornamen/Spandau.csv\n",
      "http://www.berlin.de/daten/liste-der-vornamen/Steglitz-Zehlendorf.csv\n",
      "http://www.berlin.de/daten/liste-der-vornamen/Tempelhof-Schoeneberg.csv\n",
      "http://www.berlin.de/daten/liste-der-vornamen/Treptow-Koepenick.csv\n",
      "https://daten.berlin.de/datensaetze/liste-der-h%C3%A4ufigen-vornamen-2013\n",
      "http://www.berlin.de/daten/liste-der-vornamen-2013/charlottenburg-wilmersdorf.csv\n",
      "http://www.berlin.de/daten/liste-der-vornamen-2013/friedrichshain-kreuzberg.csv\n",
      "http://www.berlin.de/daten/liste-der-vornamen-2013/lichtenberg.csv\n",
      "http://www.berlin.de/daten/liste-der-vornamen-2013/marzahn-hellersdorf.csv\n",
      "http://www.berlin.de/daten/liste-der-vornamen-2013/mitte.csv\n",
      "http://www.berlin.de/daten/liste-der-vornamen-2013/neukoelln.csv\n",
      "http://www.berlin.de/daten/liste-der-vornamen-2013/pankow.csv\n",
      "http://www.berlin.de/daten/liste-der-vornamen-2013/reinickendorf.csv\n",
      "http://www.berlin.de/daten/liste-der-vornamen-2013/spandau.csv\n",
      "http://www.berlin.de/daten/liste-der-vornamen-2013/steglitz-zehlendorf.csv\n",
      "http://www.berlin.de/daten/liste-der-vornamen-2013/tempelhof-schoeneberg.csv\n",
      "http://www.berlin.de/daten/liste-der-vornamen-2013/treptow-koepenick.csv\n",
      "https://daten.berlin.de/datensaetze/liste-der-h%C3%A4ufigen-vornamen-2014\n",
      "https://daten.berlin.de/datensaetze/liste-der-h%C3%A4ufigen-vornamen-2015\n",
      "http://www.berlin.de/daten/liste-der-vornamen-2015/charlottenburg-wilmersdorf.csv\n",
      "http://www.berlin.de/daten/liste-der-vornamen-2015/friedrichshain-kreuzberg.csv\n",
      "http://www.berlin.de/daten/liste-der-vornamen-2015/lichtenberg.csv\n",
      "http://www.berlin.de/daten/liste-der-vornamen-2015/marzahn-hellersdorf.csv\n",
      "http://www.berlin.de/daten/liste-der-vornamen-2015/mitte.csv\n",
      "http://www.berlin.de/daten/liste-der-vornamen-2015/neukoelln.csv\n",
      "http://www.berlin.de/daten/liste-der-vornamen-2015/pankow.csv\n",
      "http://www.berlin.de/daten/liste-der-vornamen-2015/reinickendorf.csv\n",
      "http://www.berlin.de/daten/liste-der-vornamen-2015/spandau.csv\n",
      "http://www.berlin.de/daten/liste-der-vornamen-2015/standesamt-i.csv\n",
      "http://www.berlin.de/daten/liste-der-vornamen-2015/steglitz-zehlendorf.csv\n",
      "http://www.berlin.de/daten/liste-der-vornamen-2015/tempelhof-schoeneberg.csv\n",
      "http://www.berlin.de/daten/liste-der-vornamen-2015/treptow-koepenick.csv\n",
      "https://daten.berlin.de/datensaetze/liste-der-h%C3%A4ufigen-vornamen-2016\n",
      "http://www.berlin.de/daten/liste-der-vornamen-2016/charlottenburg-wilmersdorf.csv\n",
      "http://www.berlin.de/daten/liste-der-vornamen-2016/friedrichshain-kreuzberg.csv\n",
      "http://www.berlin.de/daten/liste-der-vornamen-2016/lichtenberg.csv\n",
      "http://www.berlin.de/daten/liste-der-vornamen-2016/marzahn-hellersdorf.csv\n",
      "http://www.berlin.de/daten/liste-der-vornamen-2016/mitte.csv\n",
      "http://www.berlin.de/daten/liste-der-vornamen-2016/neukoelln.csv\n",
      "http://www.berlin.de/daten/liste-der-vornamen-2016/pankow.csv\n",
      "http://www.berlin.de/daten/liste-der-vornamen-2016/reinickendorf.csv\n",
      "http://www.berlin.de/daten/liste-der-vornamen-2016/spandau.csv\n",
      "http://www.berlin.de/daten/liste-der-vornamen-2016/steglitz-zehlendorf.csv\n",
      "http://www.berlin.de/daten/liste-der-vornamen-2016/tempelhof-schoeneberg.csv\n",
      "http://www.berlin.de/daten/liste-der-vornamen-2016/treptow-koepenick.csv\n",
      "https://daten.berlin.de/datensaetze/liste-der-h%C3%A4ufigen-vornamen-2017\n",
      "http://www.berlin.de/daten/liste-der-vornamen-2017/charlottenburg-wilmersdorf.csv\n",
      "http://www.berlin.de/daten/liste-der-vornamen-2017/friedrichshain-kreuzberg.csv\n",
      "http://www.berlin.de/daten/liste-der-vornamen-2017/lichtenberg.csv\n",
      "http://www.berlin.de/daten/liste-der-vornamen-2017/marzahn-hellersdorf.csv\n",
      "http://www.berlin.de/daten/liste-der-vornamen-2017/mitte.csv\n",
      "http://www.berlin.de/daten/liste-der-vornamen-2017/neukoelln.csv\n",
      "http://www.berlin.de/daten/liste-der-vornamen-2017/pankow.csv\n",
      "http://www.berlin.de/daten/liste-der-vornamen-2017/reinickendorf.csv\n",
      "http://www.berlin.de/daten/liste-der-vornamen-2017/spandau.csv\n",
      "http://www.berlin.de/daten/liste-der-vornamen-2017/steglitz-zehlendorf.csv\n",
      "http://www.berlin.de/daten/liste-der-vornamen-2017/tempelhof-schoeneberg.csv\n",
      "http://www.berlin.de/daten/liste-der-vornamen-2017/treptow-koepenick.csv\n",
      "https://daten.berlin.de/datensaetze/liste-der-h%C3%A4ufigen-vornamen-2018\n"
     ]
    }
   ],
   "source": [
    "for year in years:\n",
    "    csv_dic[str(year)]=retrieve_csv_link(year)\n",
    "    "
   ]
  },
  {
   "cell_type": "code",
   "execution_count": 107,
   "metadata": {},
   "outputs": [],
   "source": [
    "for year in years:\n",
    "    for link in csv_dic[str(year)]:\n",
    "       \n",
    "        urllib.urlretrieve (link, ''.join(['data/names/','/',str(year),'_',link.split('/')[-1]]))"
   ]
  }
 ],
 "metadata": {
  "kernelspec": {
   "display_name": "Python [default]",
   "language": "python",
   "name": "python2"
  },
  "language_info": {
   "codemirror_mode": {
    "name": "ipython",
    "version": 2
   },
   "file_extension": ".py",
   "mimetype": "text/x-python",
   "name": "python",
   "nbconvert_exporter": "python",
   "pygments_lexer": "ipython2",
   "version": "2.7.15"
  }
 },
 "nbformat": 4,
 "nbformat_minor": 2
}
